{
 "cells": [
  {
   "cell_type": "code",
   "execution_count": null,
   "metadata": {},
   "outputs": [],
   "source": [
    "import sys\n",
    "\n",
    "from selenium import webdriver\n",
    "from selenium.webdriver.firefox.options import Options\n",
    "from selenium.webdriver.firefox.firefox_binary import FirefoxBinary\n",
    "from selenium.webdriver.common.action_chains import ActionChains\n",
    "from selenium.webdriver.common.keys import Keys\n",
    "from matplotlib import pyplot as plt\n",
    "import numpy as np\n",
    "import time\n",
    "import subprocess as fish\n",
    "import datetime"
   ]
  },
  {
   "cell_type": "code",
   "execution_count": null,
   "metadata": {},
   "outputs": [],
   "source": [
    "#number = sys.argv[1]\n",
    "#name   = sys.argv[2]\n",
    "number  = \"xxxxxxxxxx\"\n",
    "name    = \"yyyyy\""
   ]
  },
  {
   "cell_type": "code",
   "execution_count": null,
   "metadata": {},
   "outputs": [],
   "source": [
    "print(\"Tracker initializing for \" + number)"
   ]
  },
  {
   "cell_type": "code",
   "execution_count": null,
   "metadata": {},
   "outputs": [],
   "source": [
    "print(\"Setting URL to https://web.whatsapp.com\")\n",
    "url = \"https://web.whatsapp.com/\""
   ]
  },
  {
   "cell_type": "code",
   "execution_count": null,
   "metadata": {},
   "outputs": [],
   "source": [
    "options = Options()\n",
    "options.headless=True"
   ]
  },
  {
   "cell_type": "code",
   "execution_count": null,
   "metadata": {},
   "outputs": [],
   "source": [
    "print(\"Staring headless firefox window\")\n",
    "window = webdriver.Firefox(options=options, executable_path='geckodriver', firefox_binary=FirefoxBinary('firefox'))"
   ]
  },
  {
   "cell_type": "code",
   "execution_count": null,
   "metadata": {},
   "outputs": [],
   "source": [
    "print(\"Scan the QR code from mobile in 5 seconds\")\n",
    "time.sleep(5)\n",
    "print(\"Connecting to https://web.whatsapp.com\")\n",
    "window.get(url)"
   ]
  },
  {
   "cell_type": "code",
   "execution_count": null,
   "metadata": {},
   "outputs": [],
   "source": [
    "window.save_screenshot('qr.png')\n",
    "qr_code = plt.imread('qr.png')\n",
    "plt.imshow(qr_code)\n",
    "\n",
    "fish.call([\"viewnior\", \"qr.png\"])"
   ]
  },
  {
   "cell_type": "code",
   "execution_count": null,
   "metadata": {},
   "outputs": [],
   "source": [
    "def live_page():\n",
    "    window.save_screenshot('live.png')\n",
    "    live = plt.imread('live.png')\n",
    "    return live"
   ]
  },
  {
   "cell_type": "code",
   "execution_count": null,
   "metadata": {},
   "outputs": [],
   "source": [
    "print(\"Current window\")\n",
    "live = live_page()\n",
    "plt.imshow(live)\n",
    "fish.call([\"viewnior\", \"live.png\"])"
   ]
  },
  {
   "cell_type": "code",
   "execution_count": null,
   "metadata": {},
   "outputs": [],
   "source": [
    "print(\"Waiting for page to load...\")\n",
    "while(True):\n",
    "    try:\n",
    "        page_loaded = window.find_element_by_class_name(\"_28Bny\")\n",
    "        print(\"Page fully loaded\")\n",
    "        break\n",
    "    except:\n",
    "        print(\"Page loading...\")\n",
    "        time.sleep(1)"
   ]
  },
  {
   "cell_type": "code",
   "execution_count": null,
   "metadata": {},
   "outputs": [],
   "source": [
    "element = window.find_element_by_class_name(\"_2zCfw\")\n",
    "element.click()\n",
    "element.send_keys(number)"
   ]
  },
  {
   "cell_type": "code",
   "execution_count": null,
   "metadata": {},
   "outputs": [],
   "source": [
    "print(\"Current window\")\n",
    "live = live_page()\n",
    "fish.call([\"viewnior\", \"live.png\"])"
   ]
  },
  {
   "cell_type": "code",
   "execution_count": null,
   "metadata": {},
   "outputs": [],
   "source": [
    "element = window.find_elements_by_class_name(\"_19RFN\")\n",
    "\n",
    "for i in range(len(element)):\n",
    "    if element[i].get_attribute(\"title\") == name:\n",
    "        element[i].click()"
   ]
  },
  {
   "cell_type": "code",
   "execution_count": null,
   "metadata": {},
   "outputs": [],
   "source": [
    "print(\"Waiting for 20 seconds...\")\n",
    "time.sleep(20)"
   ]
  },
  {
   "cell_type": "code",
   "execution_count": null,
   "metadata": {},
   "outputs": [],
   "source": [
    "live = live_page()\n",
    "fish.call([\"viewnior\", \"live.png\"])"
   ]
  },
  {
   "cell_type": "code",
   "execution_count": null,
   "metadata": {},
   "outputs": [],
   "source": [
    "prev_status = False\n",
    "status_changed = False"
   ]
  },
  {
   "cell_type": "code",
   "execution_count": null,
   "metadata": {},
   "outputs": [],
   "source": [
    "def isOnline():\n",
    "    try:\n",
    "        online = window.find_element_by_class_name(\"_315-i\")\n",
    "        if online.get_attribute(\"title\") == \"online\":\n",
    "            online_status = True\n",
    "        else:\n",
    "            online_status = False\n",
    "    except:\n",
    "        online_status = False\n",
    "    return online_status\n",
    "\n",
    "#%%\n",
    "print(\"\\n\\n\\n\")\n",
    "print(\"Tracking for \" + number)\n",
    "print(\"\\n\\n\\n\")\n",
    "\n",
    "curr_time = datetime.datetime.now()\n",
    "date_time = curr_time.strftime(\"%d/%m/%Y,%H:%M:%S\")\n",
    "\n",
    "file = open(\"time.csv\", \"a\")\n",
    "file.write(\"\\n\")\n",
    "file.write(date_time)\n",
    "file.write(\",0\")\n",
    "file.close()\n",
    "\n",
    "time.sleep(1)\n",
    "\n",
    "while True:\n",
    "    file = open(\"time.csv\", \"a\")\n",
    "    curr_time = datetime.datetime.now()\n",
    "    date_time = curr_time.strftime(\"%d/%m/%Y,%H:%M:%S\")\n",
    "    live = live_page()\n",
    "    if isOnline():\n",
    "        if prev_status == False:\n",
    "            file.write(\"\\n\")\n",
    "            file.write(date_time)\n",
    "            file.write(\",\")\n",
    "            file.write(\"1\")\n",
    "            print(date_time + \"   \" + number + \" came online\")\n",
    "            prev_status = True\n",
    "        print(date_time + \"   \" + number + \" is online\")\n",
    "    else:\n",
    "        if prev_status == True:\n",
    "            file.write(\"\\n\")\n",
    "            file.write(date_time)\n",
    "            file.write(\",\")\n",
    "            file.write(\"0\")\n",
    "            print(date_time + \"   \" + number + \" went offline\")\n",
    "            prev_status = False\n",
    "#        print(number + \" is offline\")\n",
    "    file.close()\n",
    "    time.sleep(1)\n"
   ]
  },
  {
   "cell_type": "code",
   "execution_count": null,
   "metadata": {},
   "outputs": [],
   "source": []
  }
 ],
 "metadata": {
  "kernelspec": {
   "display_name": "Python 3",
   "language": "python",
   "name": "python3"
  },
  "language_info": {
   "codemirror_mode": {
    "name": "ipython",
    "version": 3
   },
   "file_extension": ".py",
   "mimetype": "text/x-python",
   "name": "python",
   "nbconvert_exporter": "python",
   "pygments_lexer": "ipython3",
   "version": "3.7.3"
  }
 },
 "nbformat": 4,
 "nbformat_minor": 4
}
